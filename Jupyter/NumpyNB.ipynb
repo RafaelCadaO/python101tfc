{
 "cells": [
  {
   "cell_type": "markdown",
   "metadata": {},
   "source": [
    "Numpy: numeric computing library\n",
    "\n",
    "numpy es low level\n",
    "se requiere que este muy bien optimizada para el procesamiento de datos a gran escala\n",
    "\n",
    "como se guardan los datos en el pc:\n",
    "el pc solo procesa bits\n",
    "la Ram es el alamcenamietno donde se almacena la informacion que esta siendo procesada\n",
    "\n",
    "8 gb = 68719476736 bits\n",
    "\n",
    "numpy te permite hacer proceos avanzados para determinar el tamaño en memoria que quiero utilizar\n",
    "numpy es para procesar arreglos o matriz\n",
    "\n",
    "\n",
    "\n",
    "\n"
   ]
  }
 ],
 "metadata": {
  "kernelspec": {
   "display_name": "Python 3",
   "language": "python",
   "name": "python3"
  },
  "language_info": {
   "name": "python",
   "version": "3.12.1"
  }
 },
 "nbformat": 4,
 "nbformat_minor": 2
}
